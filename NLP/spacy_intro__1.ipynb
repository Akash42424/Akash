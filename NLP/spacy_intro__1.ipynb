{
  "nbformat": 4,
  "nbformat_minor": 0,
  "metadata": {
    "colab": {
      "name": "spacy intro _1.ipynb",
      "provenance": []
    },
    "kernelspec": {
      "name": "python3",
      "display_name": "Python 3"
    }
  },
  "cells": [
    {
      "cell_type": "code",
      "metadata": {
        "id": "JoFwYbvSb85K",
        "colab_type": "code",
        "colab": {}
      },
      "source": [
        "from spacy.lang.en import English"
      ],
      "execution_count": null,
      "outputs": []
    },
    {
      "cell_type": "code",
      "metadata": {
        "id": "khrZPajvcxzK",
        "colab_type": "code",
        "colab": {}
      },
      "source": [
        "text=\"In 1990, more than 60% of people in East Asia were in extreme poverty. Now less than 4% are.\"\n",
        "nlp=English()\n",
        "doc=nlp(text)"
      ],
      "execution_count": null,
      "outputs": []
    },
    {
      "cell_type": "code",
      "metadata": {
        "id": "Hf663eBzdpbb",
        "colab_type": "code",
        "colab": {
          "base_uri": "https://localhost:8080/",
          "height": 34
        },
        "outputId": "a1087b63-cedf-4e39-8487-31ea31f6f59d"
      },
      "source": [
        "print([token.text for token in doc])\n",
        "#print([token.pos_ for token in doc])   bcoz it is missing nlp = spacy.load(\"en_core_web_sm\")\n"
      ],
      "execution_count": null,
      "outputs": [
        {
          "output_type": "stream",
          "text": [
            "['In', '1990', ',', 'more', 'than', '60', '%', 'of', 'people', 'in', 'East', 'Asia', 'were', 'in', 'extreme', 'poverty', '.', 'Now', 'less', 'than', '4', '%', 'are', '.']\n"
          ],
          "name": "stdout"
        }
      ]
    },
    {
      "cell_type": "code",
      "metadata": {
        "id": "UL_ReCXKc5ot",
        "colab_type": "code",
        "colab": {
          "base_uri": "https://localhost:8080/",
          "height": 50
        },
        "outputId": "ad0788f8-af8d-4935-c909-2fa84d3f2de6"
      },
      "source": [
        "for token in doc:\n",
        "  if token.like_num:\n",
        "    token=doc[token.i+1]\n",
        "    if token.text==\"%\":\n",
        "      print(token.text,\"index = \",token.i)"
      ],
      "execution_count": null,
      "outputs": [
        {
          "output_type": "stream",
          "text": [
            "% index =  6\n",
            "% index =  21\n"
          ],
          "name": "stdout"
        }
      ]
    },
    {
      "cell_type": "code",
      "metadata": {
        "id": "Pg5afu-tcHPM",
        "colab_type": "code",
        "colab": {}
      },
      "source": [
        "import spacy\n",
        "\n",
        "# Load the small English model\n",
        "nlp = spacy.load(\"en_core_web_sm\")"
      ],
      "execution_count": null,
      "outputs": []
    },
    {
      "cell_type": "code",
      "metadata": {
        "id": "-vYLwRTCcHRb",
        "colab_type": "code",
        "colab": {}
      },
      "source": [
        "docs=nlp(text)"
      ],
      "execution_count": null,
      "outputs": []
    },
    {
      "cell_type": "code",
      "metadata": {
        "id": "mZKApck7cHUz",
        "colab_type": "code",
        "colab": {
          "base_uri": "https://localhost:8080/",
          "height": 34
        },
        "outputId": "65ef42f3-f62f-47b0-aa5a-41aff6836b28"
      },
      "source": [
        "docs.text"
      ],
      "execution_count": null,
      "outputs": [
        {
          "output_type": "execute_result",
          "data": {
            "text/plain": [
              "'In 1990, more than 60% of people in East Asia were in extreme poverty. Now less than 4% are.'"
            ]
          },
          "metadata": {
            "tags": []
          },
          "execution_count": 14
        }
      ]
    },
    {
      "cell_type": "code",
      "metadata": {
        "id": "XJeszOvSe0rw",
        "colab_type": "code",
        "colab": {
          "base_uri": "https://localhost:8080/",
          "height": 420
        },
        "outputId": "672a274d-a454-4539-c136-565963dea62c"
      },
      "source": [
        "for token in docs:\n",
        "  x=token.pos_\n",
        "  y=token.text\n",
        "  z=token.dep_\n",
        "  a=token.lemma_\n",
        "  print(f'{y:<10}{x:<15}{z:<15}{a:<10}')\n",
        "  "
      ],
      "execution_count": null,
      "outputs": [
        {
          "output_type": "stream",
          "text": [
            "In        ADP            prep           in        \n",
            "1990      NUM            pobj           1990      \n",
            ",         PUNCT          punct          ,         \n",
            "more      ADJ            amod           more      \n",
            "than      SCONJ          quantmod       than      \n",
            "60        NUM            nummod         60        \n",
            "%         NOUN           nsubj          %         \n",
            "of        ADP            prep           of        \n",
            "people    NOUN           pobj           people    \n",
            "in        ADP            prep           in        \n",
            "East      PROPN          compound       East      \n",
            "Asia      PROPN          pobj           Asia      \n",
            "were      AUX            ROOT           be        \n",
            "in        ADP            prep           in        \n",
            "extreme   ADJ            amod           extreme   \n",
            "poverty   NOUN           pobj           poverty   \n",
            ".         PUNCT          punct          .         \n",
            "Now       ADV            advmod         now       \n",
            "less      ADJ            amod           less      \n",
            "than      SCONJ          quantmod       than      \n",
            "4         NUM            nummod         4         \n",
            "%         NOUN           nsubj          %         \n",
            "are       AUX            ROOT           be        \n",
            ".         PUNCT          punct          .         \n"
          ],
          "name": "stdout"
        }
      ]
    },
    {
      "cell_type": "code",
      "metadata": {
        "id": "rTwF3tcre0uL",
        "colab_type": "code",
        "colab": {
          "base_uri": "https://localhost:8080/",
          "height": 84
        },
        "outputId": "6c401652-8338-41cd-e8f6-34b5dc4b78f9"
      },
      "source": [
        "for ent in docs.ents:\n",
        "    # Print the entity text and its label\n",
        "    print(f'{ent.text:20}{ent.label_:15}')"
      ],
      "execution_count": null,
      "outputs": [
        {
          "output_type": "stream",
          "text": [
            "1990                DATE           \n",
            "more than 60%       PERCENT        \n",
            "East Asia           LOC            \n",
            "less than 4%        PERCENT        \n"
          ],
          "name": "stdout"
        }
      ]
    },
    {
      "cell_type": "code",
      "metadata": {
        "id": "Hbfqkr9He0w2",
        "colab_type": "code",
        "colab": {
          "base_uri": "https://localhost:8080/",
          "height": 34
        },
        "outputId": "ef33ab5f-2329-4df6-9114-2a8a9bdbd6e8"
      },
      "source": [
        "import spacy\n",
        "\n",
        "# Import the Matcher\n",
        "from spacy.matcher import Matcher\n",
        "\n",
        "nlp = spacy.load(\"en_core_web_sm\")\n",
        "doc = nlp(\"Upcoming iPhone X release date leaked as Apple reveals pre-orders\")\n",
        "\n",
        "# Initialize the Matcher with the shared vocabulary\n",
        "matcher = Matcher(nlp.vocab)\n",
        "\n",
        "# Create a pattern matching two tokens: \"iPhone\" and \"X\"\n",
        "pattern = [{\"TEXT\": \"iPhone\"}, {\"TEXT\": \"X\"}]\n",
        "\n",
        "# Add the pattern to the matcher\n",
        "matcher.add(\"IPHONE_X_PATTERN\", None, pattern)\n",
        "\n",
        "# Use the matcher on the doc\n",
        "matches = matcher(doc)\n",
        "print(\"Matches:\", [doc[start:end].text for match_id, start, end in matches])"
      ],
      "execution_count": null,
      "outputs": [
        {
          "output_type": "stream",
          "text": [
            "Matches: ['iPhone X']\n"
          ],
          "name": "stdout"
        }
      ]
    },
    {
      "cell_type": "code",
      "metadata": {
        "id": "PW5XC1zoe0zf",
        "colab_type": "code",
        "colab": {
          "base_uri": "https://localhost:8080/",
          "height": 101
        },
        "outputId": "72bc722e-9ce8-469e-8b4d-72ca82bfba5f"
      },
      "source": [
        "import spacy\n",
        "from spacy import displacy\n",
        "\n",
        "text = \"When Sebastian Thrun started working on self-driving cars at Google in 2007, few people outside of the company took him seriously.\"\n",
        "\n",
        "nlp = spacy.load(\"en_core_web_sm\")\n",
        "doc = nlp(text)\n",
        "displacy.serve(doc, style=\"ent\")"
      ],
      "execution_count": null,
      "outputs": [
        {
          "output_type": "stream",
          "text": [
            "\n",
            "Using the 'ent' visualizer\n",
            "Serving on http://0.0.0.0:5000 ...\n",
            "\n",
            "Shutting down server on port 5000.\n"
          ],
          "name": "stdout"
        }
      ]
    },
    {
      "cell_type": "code",
      "metadata": {
        "id": "xYEpUNzde02L",
        "colab_type": "code",
        "colab": {
          "base_uri": "https://localhost:8080/",
          "height": 67
        },
        "outputId": "a60a49a2-f0cd-4be2-d8a2-4c35d3474a24"
      },
      "source": [
        "import spacy\n",
        "from spacy.matcher import Matcher\n",
        "\n",
        "nlp = spacy.load(\"en_core_web_sm\")\n",
        "matcher = Matcher(nlp.vocab)\n",
        "\n",
        "doc = nlp(\n",
        "    \"After making the iOS update you won't notice a radical system-wide \"\n",
        "    \"redesign: nothing like the aesthetic upheaval we got with iOS 7. Most of \"\n",
        "    \"iOS 11's furniture remains the same as in iOS 10. But you will discover \"\n",
        "    \"some tweaks once you delve a little deeper,iOS.\"\n",
        ")\n",
        "\n",
        "# Write a pattern for full iOS versions (\"iOS 7\", \"iOS 11\", \"iOS 10\")\n",
        "pattern = [{\"TEXT\": \"iOS\"}, {\"IS_DIGIT\": True}]\n",
        "\n",
        "# Add the pattern to the matcher and apply the matcher to the doc\n",
        "matcher.add(\"IOS_VERSION_PATTERN\", None, pattern)\n",
        "matches = matcher(doc)\n",
        "print(\"Total matches found:\", len(matches))\n",
        "\n",
        "# Iterate over the matches and print the span text\n",
        "for match_id, start, end in matches:\n",
        "    print(\"Match found:\", doc[start:end].text)"
      ],
      "execution_count": null,
      "outputs": [
        {
          "output_type": "stream",
          "text": [
            "Total matches found: 2\n",
            "Match found: iOS update\n",
            "Match found: iOS.\n"
          ],
          "name": "stdout"
        }
      ]
    },
    {
      "cell_type": "code",
      "metadata": {
        "id": "vzB_rp45e07V",
        "colab_type": "code",
        "colab": {
          "base_uri": "https://localhost:8080/",
          "height": 118
        },
        "outputId": "5a60f866-484d-4928-f79d-303a7ae4e24b"
      },
      "source": [
        "import spacy\n",
        "from spacy.matcher import Matcher\n",
        "\n",
        "nlp = spacy.load(\"en_core_web_sm\")\n",
        "matcher = Matcher(nlp.vocab)\n",
        "\n",
        "doc = nlp(\n",
        "    \"Features of the app include a beautiful design, smart search, automatic \"\n",
        "    \"labels and optional voice responses.\"\n",
        ")\n",
        "\n",
        "# Write a pattern for adjective plus one or two nouns\n",
        "pattern = [{\"POS\": \"ADJ\"}, {\"POS\": \"NOUN\"}, {\"POS\": \"NOUN\", \"OP\": \"?\"}]\n",
        "\n",
        "# Add the pattern to the matcher and apply the matcher to the doc\n",
        "matcher.add(\"ADJ_NOUN_PATTERN\", None, pattern)\n",
        "matches = matcher(doc)\n",
        "print(\"Total matches found:\", len(matches))\n",
        "\n",
        "# Iterate over the matches and print the span text\n",
        "for match_id, start, end in matches:\n",
        "    print(\"Match found:\", doc[start:end].text)"
      ],
      "execution_count": null,
      "outputs": [
        {
          "output_type": "stream",
          "text": [
            "Total matches found: 5\n",
            "Match found: beautiful design\n",
            "Match found: smart search\n",
            "Match found: automatic labels\n",
            "Match found: optional voice\n",
            "Match found: optional voice responses\n"
          ],
          "name": "stdout"
        }
      ]
    },
    {
      "cell_type": "code",
      "metadata": {
        "id": "lYhBqdhQe0-Q",
        "colab_type": "code",
        "colab": {
          "base_uri": "https://localhost:8080/",
          "height": 118
        },
        "outputId": "70b5cd01-125a-4c0d-aa6f-7102d16dfe79"
      },
      "source": [
        "### matching\n",
        "import spacy \n",
        "from spacy.matcher import Matcher\n",
        "\n",
        "nlp=spacy.load(\"en_core_web_sm\")\n",
        "matcher=Matcher(nlp.vocab)\n",
        "\n",
        "doc=nlp(\"Features of the app include a beautiful design, smart search, automatic ,labels and optional voice responses. beautiful\")\n",
        "\n",
        "doc1 = nlp(\n",
        "    \"After making the iOS update you won't notice a radical system-wide \"\n",
        "    \"redesign: nothing like the aesthetic upheaval we got with iOS 7. Most of \"\n",
        "    \"iOS 11's furniture remains the same as in iOS 10. But you will discover \"\n",
        "    \"some tweaks once you delve a little deeper,iOS.\"\n",
        ")\n",
        "pattern=[{\"TEXT\":\"beautiful\"},{\"TEXT\":\"design\"}]\n",
        "\n",
        "matcher.add(\"name\",None,pattern)\n",
        "matches=matcher(doc)\n",
        "\n",
        "\n",
        "matcher1=Matcher(nlp.vocab)\n",
        "pattern1=[{\"TEXT\":\"iOS\"},{\"IS_DIGIT\":True}]\n",
        "matcher1.add(\"name1\",None,pattern1)\n",
        "matches1=matcher1(doc1)\n",
        "\n",
        "print(len(matches))\n",
        "\n",
        "for match_id,start,end in matches:\n",
        "  print(doc[start:end].text)\n",
        "\n",
        "print(len(matches1))\n",
        "\n",
        "for match_id,start,end in matches1:\n",
        "  print(doc1[start:end].text)"
      ],
      "execution_count": null,
      "outputs": [
        {
          "output_type": "stream",
          "text": [
            "1\n",
            "beautiful design\n",
            "3\n",
            "iOS 7\n",
            "iOS 11\n",
            "iOS 10\n"
          ],
          "name": "stdout"
        }
      ]
    }
  ]
}