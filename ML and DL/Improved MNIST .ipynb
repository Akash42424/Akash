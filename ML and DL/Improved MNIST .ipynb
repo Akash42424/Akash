{
  "nbformat": 4,
  "nbformat_minor": 0,
  "metadata": {
    "colab": {
      "name": "keras  cnn 1(MNIST).ipynb",
      "provenance": [],
      "collapsed_sections": []
    },
    "kernelspec": {
      "name": "python3",
      "display_name": "Python 3"
    },
    "accelerator": "GPU"
  },
  "cells": [
    {
      "cell_type": "code",
      "metadata": {
        "id": "yVz685okq01f",
        "colab_type": "code",
        "colab": {
          "base_uri": "https://localhost:8080/",
          "height": 67
        },
        "outputId": "9186dc0c-b999-41bf-aef1-0b45bcccb3bd"
      },
      "source": [
        "# Plot ad hoc mnist instances\n",
        "from keras.datasets import mnist\n",
        "import matplotlib.pyplot as plt\n",
        "# load (downloaded if needed) the MNIST dataset\n",
        "(X_train, y_train), (X_test, y_test) = mnist.load_data()\n"
      ],
      "execution_count": null,
      "outputs": [
        {
          "output_type": "stream",
          "text": [
            "Using TensorFlow backend.\n"
          ],
          "name": "stderr"
        },
        {
          "output_type": "stream",
          "text": [
            "Downloading data from https://s3.amazonaws.com/img-datasets/mnist.npz\n",
            "11493376/11490434 [==============================] - 1s 0us/step\n"
          ],
          "name": "stdout"
        }
      ]
    },
    {
      "cell_type": "code",
      "metadata": {
        "id": "8gHpYTOdLt-J",
        "colab_type": "code",
        "colab": {
          "base_uri": "https://localhost:8080/",
          "height": 34
        },
        "outputId": "1cc5e8f8-4b62-459e-d1f8-8fd2a9ff1ef0"
      },
      "source": [
        "X_train.shape,X_test.shape"
      ],
      "execution_count": null,
      "outputs": [
        {
          "output_type": "execute_result",
          "data": {
            "text/plain": [
              "((60000, 28, 28), (10000, 28, 28))"
            ]
          },
          "metadata": {
            "tags": []
          },
          "execution_count": 3
        }
      ]
    },
    {
      "cell_type": "code",
      "metadata": {
        "id": "wq6HlID4LuG_",
        "colab_type": "code",
        "colab": {
          "base_uri": "https://localhost:8080/",
          "height": 285
        },
        "outputId": "60d8d045-2c6b-4d43-9bc0-3beee1bcb130"
      },
      "source": [
        "# plot 4 images as gray scale\n",
        "plt.subplot(221)\n",
        "plt.imshow(X_train[0], cmap=plt.get_cmap( \"gray\" ))\n",
        "plt.subplot(222)\n",
        "plt.imshow(X_train[1], cmap=plt.get_cmap( \"gray\" ))\n",
        "plt.subplot(223)\n",
        "plt.imshow(X_train[2], cmap=plt.get_cmap( \"gray\" ))\n",
        "plt.subplot(224)\n",
        "plt.imshow(X_train[3], cmap=plt.get_cmap( \"gray\" ))\n",
        "# show the pl"
      ],
      "execution_count": null,
      "outputs": [
        {
          "output_type": "execute_result",
          "data": {
            "text/plain": [
              "<matplotlib.image.AxesImage at 0x7f3b87c0b4a8>"
            ]
          },
          "metadata": {
            "tags": []
          },
          "execution_count": 4
        },
        {
          "output_type": "display_data",
          "data": {
            "image/png": "[encoded data removed]",
            "text/plain": [
              "<Figure size 432x288 with 4 Axes>"
            ]
          },
          "metadata": {
            "tags": [],
            "needs_background": "light"
          }
        }
      ]
    },
    {
      "cell_type": "code",
      "metadata": {
        "id": "4kVllHpDLuL_",
        "colab_type": "code",
        "colab": {}
      },
      "source": [
        ""
      ],
      "execution_count": null,
      "outputs": []
    },
    {
      "cell_type": "code",
      "metadata": {
        "id": "VgT_tt8VLueO",
        "colab_type": "code",
        "colab": {}
      },
      "source": [
        "import numpy as np\n",
        "import pandas as pd\n",
        "from keras.models import Sequential\n",
        "from keras.layers import Dense,Dropout,Convolution2D\n",
        "from keras.utils import np_utils"
      ],
      "execution_count": null,
      "outputs": []
    },
    {
      "cell_type": "code",
      "metadata": {
        "id": "_8s0jMaHLumb",
        "colab_type": "code",
        "colab": {}
      },
      "source": [
        "# flatten 28*28 images to a 784 vector for each image\n",
        "size=X_train.shape[1]*X_train.shape[2]\n",
        "X_train=X_train.reshape(X_train.shape[0],size).astype(\"float\")\n",
        "X_test=X_test.reshape(X_test.shape[0],size).astype(\"float\")"
      ],
      "execution_count": null,
      "outputs": []
    },
    {
      "cell_type": "code",
      "metadata": {
        "id": "54fBBFuqLujS",
        "colab_type": "code",
        "colab": {}
      },
      "source": [
        "# normalize inputs from 0-255 to 0-1\n",
        "X_train=X_train/255\n",
        "X_test=X_test/255"
      ],
      "execution_count": null,
      "outputs": []
    },
    {
      "cell_type": "code",
      "metadata": {
        "id": "kPwg2vrhLuhY",
        "colab_type": "code",
        "colab": {
          "base_uri": "https://localhost:8080/",
          "height": 34
        },
        "outputId": "3e932e32-2d8e-4cc0-e639-7466aaa16ed4"
      },
      "source": [
        "y_train[0]"
      ],
      "execution_count": null,
      "outputs": [
        {
          "output_type": "execute_result",
          "data": {
            "text/plain": [
              "5"
            ]
          },
          "metadata": {
            "tags": []
          },
          "execution_count": 8
        }
      ]
    },
    {
      "cell_type": "code",
      "metadata": {
        "id": "VayddXtnLucE",
        "colab_type": "code",
        "colab": {}
      },
      "source": [
        "# one hot encode outputs\n",
        "y_train=np_utils.to_categorical(y_train)\n",
        "y_test=np_utils.to_categorical(y_test)\n",
        "num_class=y_train.shape[1]"
      ],
      "execution_count": null,
      "outputs": []
    },
    {
      "cell_type": "code",
      "metadata": {
        "id": "JkcjbiQMLuZM",
        "colab_type": "code",
        "colab": {
          "base_uri": "https://localhost:8080/",
          "height": 34
        },
        "outputId": "498fc469-9308-4533-a037-644fc749a890"
      },
      "source": [
        "y_train.shape\n"
      ],
      "execution_count": null,
      "outputs": [
        {
          "output_type": "execute_result",
          "data": {
            "text/plain": [
              "(60000, 10)"
            ]
          },
          "metadata": {
            "tags": []
          },
          "execution_count": 10
        }
      ]
    },
    {
      "cell_type": "code",
      "metadata": {
        "id": "t_MSdvzmfVby",
        "colab_type": "code",
        "colab": {}
      },
      "source": [
        ""
      ],
      "execution_count": null,
      "outputs": []
    },
    {
      "cell_type": "markdown",
      "metadata": {
        "id": "I-WnKQd_fV84",
        "colab_type": "text"
      },
      "source": [
        "**Simple ANN**"
      ]
    },
    {
      "cell_type": "code",
      "metadata": {
        "id": "POqVDnuRLuWZ",
        "colab_type": "code",
        "colab": {}
      },
      "source": [
        "def create_model():\n",
        "  # create model\n",
        "  model = Sequential()\n",
        "  model.add(Dense(size, input_dim=size, kernel_initializer= \"normal\" , activation= \"relu\" ))\n",
        "  model.add(Dense(num_class, kernel_initializer= \"normal\" , activation= \"softmax\" ))\n",
        "  # Compile model\n",
        "  model.compile(loss= \"categorical_crossentropy\" , optimizer= \"adam\" , metrics=[ \"accuracy\" ])\n",
        "  return model"
      ],
      "execution_count": null,
      "outputs": []
    },
    {
      "cell_type": "code",
      "metadata": {
        "id": "VQXuHLHjLuT4",
        "colab_type": "code",
        "colab": {
          "base_uri": "https://localhost:8080/",
          "height": 420
        },
        "outputId": "4f67aec4-0085-4680-8eb1-5828321c4bce"
      },
      "source": [
        "model=create_model()\n",
        "\n",
        "model.fit(X_train, y_train, validation_data=(X_test, y_test), nb_epoch=10, batch_size=200,\n",
        "verbose=2)\n",
        "scores = model.evaluate(X_test, y_test, verbose=0)\n",
        "print(\"Baseline Error: %.2f%%\" % (scores[1]*100))"
      ],
      "execution_count": null,
      "outputs": [
        {
          "output_type": "stream",
          "text": [
            "/usr/local/lib/python3.6/dist-packages/ipykernel_launcher.py:4: UserWarning: The `nb_epoch` argument in `fit` has been renamed `epochs`.\n",
            "  after removing the cwd from sys.path.\n"
          ],
          "name": "stderr"
        },
        {
          "output_type": "stream",
          "text": [
            "Train on 60000 samples, validate on 10000 samples\n",
            "Epoch 1/10\n",
            " - 3s - loss: 0.2804 - accuracy: 0.9200 - val_loss: 0.1353 - val_accuracy: 0.9606\n",
            "Epoch 2/10\n",
            " - 1s - loss: 0.1121 - accuracy: 0.9674 - val_loss: 0.0916 - val_accuracy: 0.9723\n",
            "Epoch 3/10\n",
            " - 1s - loss: 0.0713 - accuracy: 0.9794 - val_loss: 0.0846 - val_accuracy: 0.9734\n",
            "Epoch 4/10\n",
            " - 1s - loss: 0.0518 - accuracy: 0.9849 - val_loss: 0.0639 - val_accuracy: 0.9800\n",
            "Epoch 5/10\n",
            " - 1s - loss: 0.0356 - accuracy: 0.9900 - val_loss: 0.0644 - val_accuracy: 0.9796\n",
            "Epoch 6/10\n",
            " - 1s - loss: 0.0264 - accuracy: 0.9927 - val_loss: 0.0617 - val_accuracy: 0.9814\n",
            "Epoch 7/10\n",
            " - 1s - loss: 0.0192 - accuracy: 0.9955 - val_loss: 0.0668 - val_accuracy: 0.9800\n",
            "Epoch 8/10\n",
            " - 1s - loss: 0.0146 - accuracy: 0.9965 - val_loss: 0.0592 - val_accuracy: 0.9824\n",
            "Epoch 9/10\n",
            " - 1s - loss: 0.0107 - accuracy: 0.9979 - val_loss: 0.0630 - val_accuracy: 0.9808\n",
            "Epoch 10/10\n",
            " - 1s - loss: 0.0081 - accuracy: 0.9984 - val_loss: 0.0578 - val_accuracy: 0.9819\n",
            "Baseline Error: 98.19%\n"
          ],
          "name": "stdout"
        }
      ]
    },
    {
      "cell_type": "markdown",
      "metadata": {
        "id": "HMgchkRalegL",
        "colab_type": "text"
      },
      "source": [
        "**Simple CNN**"
      ]
    },
    {
      "cell_type": "code",
      "metadata": {
        "id": "B0EUTpP0LuJ-",
        "colab_type": "code",
        "colab": {}
      },
      "source": [
        "from keras.models import Sequential\n",
        "from keras.layers import Dense,Convolution2D,Dropout,Flatten,MaxPooling2D\n",
        "from keras.utils import np_utils"
      ],
      "execution_count": null,
      "outputs": []
    },
    {
      "cell_type": "code",
      "metadata": {
        "id": "XF042IwZLuEg",
        "colab_type": "code",
        "colab": {}
      },
      "source": [
        "# fix random seed for reproducibility\n",
        "seed = 7\n",
        "np.random.seed(seed)\n",
        "\n",
        "(X_train,y_train) ,(X_test,y_test)=mnist.load_data()\n",
        "\n",
        "X_train=X_train.reshape(X_train.shape[0],28,28,1).astype(\"float\")\n",
        "X_test=X_test.reshape(X_test.shape[0],28,28,1).astype(\"float\")\n",
        "\n",
        "X_train=X_train/255\n",
        "X_test=X_test/255"
      ],
      "execution_count": null,
      "outputs": []
    },
    {
      "cell_type": "code",
      "metadata": {
        "id": "wF0vS1ToLuDC",
        "colab_type": "code",
        "colab": {}
      },
      "source": [
        "y_train=np_utils.to_categorical(y_train)\n",
        "y_test=np_utils.to_categorical(y_test)\n"
      ],
      "execution_count": null,
      "outputs": []
    },
    {
      "cell_type": "code",
      "metadata": {
        "id": "u4pAve5XoBew",
        "colab_type": "code",
        "colab": {}
      },
      "source": [
        "num_class=y_test.shape[1]"
      ],
      "execution_count": null,
      "outputs": []
    },
    {
      "cell_type": "code",
      "metadata": {
        "id": "Ynk_YbvILuBE",
        "colab_type": "code",
        "colab": {}
      },
      "source": [
        "def simple_cnn():\n",
        "  model=Sequential()\n",
        "\n",
        "  model.add(Convolution2D(32,5,5,border_mode=\"valid\",input_shape=(28,28,1),activation=\"relu\"))\n",
        "  model.add(MaxPooling2D(pool_size=(2,2)))\n",
        "  model.add(Dropout(.2))\n",
        "\n",
        "  model.add(Flatten())\n",
        "  model.add(Dense(128,activation=\"relu\"))\n",
        "  model.add(Dense(num_class,activation=\"softmax\"))\n",
        "\n",
        "  model.compile(loss=\"categorical_crossentropy\",optimizer=\"adam\",metrics=[\"accuracy\"])\n",
        "  return model"
      ],
      "execution_count": null,
      "outputs": []
    },
    {
      "cell_type": "code",
      "metadata": {
        "id": "6zDX_UMNp54l",
        "colab_type": "code",
        "colab": {
          "base_uri": "https://localhost:8080/",
          "height": 440
        },
        "outputId": "338a014a-9550-4eab-b094-63b3c0bfb3b7"
      },
      "source": [
        "model=simple_cnn()\n",
        "\n",
        "model.fit(X_train,y_train,epochs=10,batch_size=200,validation_data=(X_test,y_test),verbose=2)\n",
        "\n",
        "score=model.evaluate(X_test,y_test,verbose=0)\n",
        "\n",
        "print(\"CNN Error: %.2f%%\" % (scores[1]*100))"
      ],
      "execution_count": null,
      "outputs": [
        {
          "output_type": "stream",
          "text": [
            "/usr/local/lib/python3.6/dist-packages/ipykernel_launcher.py:4: UserWarning: Update your `Conv2D` call to the Keras 2 API: `Conv2D(32, (5, 5), input_shape=(28, 28, 1..., activation=\"relu\", padding=\"valid\")`\n",
            "  after removing the cwd from sys.path.\n"
          ],
          "name": "stderr"
        },
        {
          "output_type": "stream",
          "text": [
            "Train on 60000 samples, validate on 10000 samples\n",
            "Epoch 1/10\n",
            " - 2s - loss: 0.2417 - accuracy: 0.9313 - val_loss: 0.0745 - val_accuracy: 0.9772\n",
            "Epoch 2/10\n",
            " - 1s - loss: 0.0743 - accuracy: 0.9778 - val_loss: 0.0484 - val_accuracy: 0.9852\n",
            "Epoch 3/10\n",
            " - 1s - loss: 0.0517 - accuracy: 0.9845 - val_loss: 0.0389 - val_accuracy: 0.9877\n",
            "Epoch 4/10\n",
            " - 1s - loss: 0.0399 - accuracy: 0.9880 - val_loss: 0.0373 - val_accuracy: 0.9878\n",
            "Epoch 5/10\n",
            " - 2s - loss: 0.0333 - accuracy: 0.9892 - val_loss: 0.0323 - val_accuracy: 0.9891\n",
            "Epoch 6/10\n",
            " - 1s - loss: 0.0279 - accuracy: 0.9914 - val_loss: 0.0302 - val_accuracy: 0.9890\n",
            "Epoch 7/10\n",
            " - 1s - loss: 0.0234 - accuracy: 0.9926 - val_loss: 0.0334 - val_accuracy: 0.9893\n",
            "Epoch 8/10\n",
            " - 1s - loss: 0.0193 - accuracy: 0.9941 - val_loss: 0.0327 - val_accuracy: 0.9895\n",
            "Epoch 9/10\n",
            " - 1s - loss: 0.0168 - accuracy: 0.9947 - val_loss: 0.0313 - val_accuracy: 0.9893\n",
            "Epoch 10/10\n",
            " - 2s - loss: 0.0145 - accuracy: 0.9953 - val_loss: 0.0359 - val_accuracy: 0.9885\n",
            "CNN Error: 98.19%\n"
          ],
          "name": "stdout"
        }
      ]
    },
    {
      "cell_type": "markdown",
      "metadata": {
        "id": "j9QnrRxor8dq",
        "colab_type": "text"
      },
      "source": [
        "**Large cnn**"
      ]
    },
    {
      "cell_type": "code",
      "metadata": {
        "id": "RzlzJwf3p5yo",
        "colab_type": "code",
        "colab": {}
      },
      "source": [
        "def large_cnn():\n",
        "  model=Sequential()\n",
        "\n",
        "  model.add(Convolution2D(32,5,5,border_mode=\"valid\",input_shape=(28,28,1),activation=\"relu\"))\n",
        "  model.add(MaxPooling2D(pool_size=(2,2)))\n",
        "  model.add(Convolution2D(20,3,3,border_mode=\"valid\",activation=\"relu\"))\n",
        "  model.add(MaxPooling2D(pool_size=(2,2)))\n",
        "  model.add(Dropout(.2))\n",
        "\n",
        "  model.add(Flatten())\n",
        "  model.add(Dense(128,activation=\"relu\"))\n",
        "  model.add(Dense(64,activation=\"relu\"))\n",
        "  model.add(Dense(num_class,activation=\"softmax\"))\n",
        "\n",
        "  model.compile(loss=\"categorical_crossentropy\",optimizer=\"adam\",metrics=[\"accuracy\"])\n",
        "  return model"
      ],
      "execution_count": null,
      "outputs": []
    },
    {
      "cell_type": "code",
      "metadata": {
        "id": "r2GWiv6Ep5wo",
        "colab_type": "code",
        "colab": {
          "base_uri": "https://localhost:8080/",
          "height": 810
        },
        "outputId": "3f602e74-437a-47ee-f159-6c448940a16f"
      },
      "source": [
        "model=large_cnn()\n",
        "history=model.fit(X_train,y_train,validation_data=(X_test,y_test),epochs=20,batch_size=200,verbose=2)\n",
        "\n",
        "score=model.evaluate(X_test,y_test,verbose=0)\n",
        "\n",
        "print(\"Accuracy : %.2f%% \" % (score[1]*100))"
      ],
      "execution_count": null,
      "outputs": [
        {
          "output_type": "stream",
          "text": [
            "/usr/local/lib/python3.6/dist-packages/ipykernel_launcher.py:4: UserWarning: Update your `Conv2D` call to the Keras 2 API: `Conv2D(32, (5, 5), input_shape=(28, 28, 1..., activation=\"relu\", padding=\"valid\")`\n",
            "  after removing the cwd from sys.path.\n",
            "/usr/local/lib/python3.6/dist-packages/ipykernel_launcher.py:6: UserWarning: Update your `Conv2D` call to the Keras 2 API: `Conv2D(20, (3, 3), activation=\"relu\", padding=\"valid\")`\n",
            "  \n"
          ],
          "name": "stderr"
        },
        {
          "output_type": "stream",
          "text": [
            "Train on 60000 samples, validate on 10000 samples\n",
            "Epoch 1/20\n",
            " - 2s - loss: 0.3738 - accuracy: 0.8869 - val_loss: 0.0734 - val_accuracy: 0.9750\n",
            "Epoch 2/20\n",
            " - 2s - loss: 0.0860 - accuracy: 0.9737 - val_loss: 0.0476 - val_accuracy: 0.9848\n",
            "Epoch 3/20\n",
            " - 2s - loss: 0.0623 - accuracy: 0.9806 - val_loss: 0.0362 - val_accuracy: 0.9877\n",
            "Epoch 4/20\n",
            " - 2s - loss: 0.0513 - accuracy: 0.9839 - val_loss: 0.0333 - val_accuracy: 0.9891\n",
            "Epoch 5/20\n",
            " - 2s - loss: 0.0446 - accuracy: 0.9859 - val_loss: 0.0256 - val_accuracy: 0.9920\n",
            "Epoch 6/20\n",
            " - 2s - loss: 0.0371 - accuracy: 0.9882 - val_loss: 0.0255 - val_accuracy: 0.9910\n",
            "Epoch 7/20\n",
            " - 2s - loss: 0.0343 - accuracy: 0.9890 - val_loss: 0.0305 - val_accuracy: 0.9899\n",
            "Epoch 8/20\n",
            " - 2s - loss: 0.0303 - accuracy: 0.9906 - val_loss: 0.0255 - val_accuracy: 0.9916\n",
            "Epoch 9/20\n",
            " - 2s - loss: 0.0278 - accuracy: 0.9906 - val_loss: 0.0311 - val_accuracy: 0.9903\n",
            "Epoch 10/20\n",
            " - 2s - loss: 0.0236 - accuracy: 0.9924 - val_loss: 0.0277 - val_accuracy: 0.9911\n",
            "Epoch 11/20\n",
            " - 2s - loss: 0.0219 - accuracy: 0.9928 - val_loss: 0.0252 - val_accuracy: 0.9911\n",
            "Epoch 12/20\n",
            " - 2s - loss: 0.0212 - accuracy: 0.9932 - val_loss: 0.0240 - val_accuracy: 0.9924\n",
            "Epoch 13/20\n",
            " - 2s - loss: 0.0204 - accuracy: 0.9932 - val_loss: 0.0220 - val_accuracy: 0.9920\n",
            "Epoch 14/20\n",
            " - 2s - loss: 0.0190 - accuracy: 0.9938 - val_loss: 0.0267 - val_accuracy: 0.9918\n",
            "Epoch 15/20\n",
            " - 2s - loss: 0.0179 - accuracy: 0.9941 - val_loss: 0.0235 - val_accuracy: 0.9927\n",
            "Epoch 16/20\n",
            " - 2s - loss: 0.0161 - accuracy: 0.9945 - val_loss: 0.0233 - val_accuracy: 0.9931\n",
            "Epoch 17/20\n",
            " - 2s - loss: 0.0138 - accuracy: 0.9953 - val_loss: 0.0245 - val_accuracy: 0.9923\n",
            "Epoch 18/20\n",
            " - 2s - loss: 0.0155 - accuracy: 0.9947 - val_loss: 0.0235 - val_accuracy: 0.9928\n",
            "Epoch 19/20\n",
            " - 2s - loss: 0.0143 - accuracy: 0.9953 - val_loss: 0.0225 - val_accuracy: 0.9930\n",
            "Epoch 20/20\n",
            " - 2s - loss: 0.0129 - accuracy: 0.9955 - val_loss: 0.0255 - val_accuracy: 0.9918\n",
            "Accuracy : 99.18% \n"
          ],
          "name": "stdout"
        }
      ]
    },
    {
      "cell_type": "code",
      "metadata": {
        "id": "mCMZraVvp5tG",
        "colab_type": "code",
        "colab": {
          "base_uri": "https://localhost:8080/",
          "height": 443
        },
        "outputId": "2d52c631-ff52-4214-949c-f6de286dd282"
      },
      "source": [
        "import matplotlib.pyplot as plt\n",
        "plt.figure(figsize=(15,7))\n",
        "plt.subplot(121)\n",
        "plt.plot(history.history[\"accuracy\"])\n",
        "plt.plot(history.history[\"val_accuracy\"])\n",
        "plt.xlabel(\"epochs\")\n",
        "plt.ylabel(\"Accuracy\")\n",
        "plt.legend([\"Train\",\"test\"],loc=2)\n",
        "\n",
        "plt.subplot(122)\n",
        "plt.plot(history.history[\"loss\"])\n",
        "plt.plot(history.history[\"val_loss\"])\n",
        "plt.xlabel(\"epochs\")\n",
        "plt.ylabel(\"Loss\")\n",
        "plt.legend([\"Train\",\"test\"],loc=2)\n",
        "plt.show()\n",
        "\n",
        "\n"
      ],
      "execution_count": null,
      "outputs": [
        {
          "output_type": "display_data",
          "data": {
            "image/png": "[encoded data removed]",
            "text/plain": [
              "<Figure size 1080x504 with 2 Axes>"
            ]
          },
          "metadata": {
            "tags": [],
            "needs_background": "light"
          }
        }
      ]
    },
    {
      "cell_type": "code",
      "metadata": {
        "id": "R3SJCe69p5pm",
        "colab_type": "code",
        "colab": {}
      },
      "source": [
        ""
      ],
      "execution_count": null,
      "outputs": []
    },
    {
      "cell_type": "code",
      "metadata": {
        "id": "FWFuUWuxp5na",
        "colab_type": "code",
        "colab": {}
      },
      "source": [
        ""
      ],
      "execution_count": null,
      "outputs": []
    },
    {
      "cell_type": "code",
      "metadata": {
        "id": "XjaEwibMp5km",
        "colab_type": "code",
        "colab": {}
      },
      "source": [
        ""
      ],
      "execution_count": null,
      "outputs": []
    },
    {
      "cell_type": "code",
      "metadata": {
        "id": "Wl-0kyGQp5g0",
        "colab_type": "code",
        "colab": {}
      },
      "source": [
        ""
      ],
      "execution_count": null,
      "outputs": []
    },
    {
      "cell_type": "code",
      "metadata": {
        "id": "XFkBDzCCp5a-",
        "colab_type": "code",
        "colab": {}
      },
      "source": [
        ""
      ],
      "execution_count": null,
      "outputs": []
    },
    {
      "cell_type": "code",
      "metadata": {
        "id": "7WFvsBYCLt7g",
        "colab_type": "code",
        "colab": {}
      },
      "source": [
        ""
      ],
      "execution_count": null,
      "outputs": []
    }
  ]
}
