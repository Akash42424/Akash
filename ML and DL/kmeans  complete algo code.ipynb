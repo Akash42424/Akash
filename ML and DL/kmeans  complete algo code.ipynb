{
 "cells": [
  {
   "cell_type": "code",
   "execution_count": 1,
   "metadata": {},
   "outputs": [],
   "source": [
    "import numpy as np\n",
    "import matplotlib.pyplot as plt\n",
    "import pandas as pd\n",
    "import random"
   ]
  },
  {
   "cell_type": "markdown",
   "metadata": {},
   "source": [
    "### writing algo code"
   ]
  },
  {
   "cell_type": "code",
   "execution_count": 2,
   "metadata": {},
   "outputs": [],
   "source": [
    "x=np.array([12, 20, 28, 18, 29, 33, 24, 45, 45, 52, 51, 52, 55, 53, 55, 61, 64, 69, 72])\n",
    "y=np.array([39, 36, 30, 52, 54, 46, 55, 59, 63, 70, 66, 63, 58, 23, 14, 8, 19, 7, 24])\n"
   ]
  },
  {
   "cell_type": "code",
   "execution_count": 3,
   "metadata": {},
   "outputs": [],
   "source": [
    "def init_centroid(k):\n",
    "    centroid=[[random.randint(0,72),random.randint(0,70)] for i in range(k)]\n",
    "    return centroid "
   ]
  },
  {
   "cell_type": "code",
   "execution_count": 4,
   "metadata": {},
   "outputs": [
    {
     "data": {
      "image/png": "[encoded data removed]",
      "text/plain": [
       "<Figure size 432x288 with 1 Axes>"
      ]
     },
     "metadata": {
      "needs_background": "light"
     },
     "output_type": "display_data"
    }
   ],
   "source": [
    "### visualizing\n",
    "centroid=init_centroid(3)\n",
    "color_list=np.array([\"red\",\"green\",\"blue\"])\n",
    "plt.scatter(x,y,color=\"yellow\")\n",
    "for i in range(len(centroid)): \n",
    "    plt.scatter(*centroid[i],c=color_list[i]) \n",
    "plt.show()"
   ]
  },
  {
   "cell_type": "code",
   "execution_count": 5,
   "metadata": {},
   "outputs": [
    {
     "data": {
      "text/plain": [
       "[[10, 32], [70, 66], [1, 20]]"
      ]
     },
     "execution_count": 5,
     "metadata": {},
     "output_type": "execute_result"
    }
   ],
   "source": [
    "centroid"
   ]
  },
  {
   "cell_type": "code",
   "execution_count": 6,
   "metadata": {},
   "outputs": [],
   "source": [
    "df=pd.DataFrame({\"X\":x,\"Y\":y})"
   ]
  },
  {
   "cell_type": "code",
   "execution_count": 7,
   "metadata": {},
   "outputs": [],
   "source": [
    "def assign(df,centroid):\n",
    "   ###updating the distance from classifier\n",
    "    for i in range(len(centroid)):\n",
    "        df[\"distance_from_{}\".format(i)]=np.sqrt((x-centroid[i][0])**2+(y-centroid[i][1])**2)\n",
    "    \n",
    "    ####finding min distance\n",
    "    \n",
    "    columns=[\"distance_from_{}\".format(i) for i in range(len(centroid))]\n",
    "    df[\"closet_k\"]=df.loc[:,columns].idxmin(axis=1)\n",
    "    df[\"closet_k\"]=df[\"closet_k\"].str[-1]\n",
    "    df[\"closet_k\"]=df[\"closet_k\"].astype(\"int\")\n",
    "    ###giving same color as classifier\n",
    "    df[\"color\"]=color_list[df[\"closet_k\"]]\n",
    "    return df\n",
    "\n"
   ]
  },
  {
   "cell_type": "code",
   "execution_count": 8,
   "metadata": {},
   "outputs": [
    {
     "data": {
      "text/html": [
       "<div>\n",
       "<style scoped>\n",
       "    .dataframe tbody tr th:only-of-type {\n",
       "        vertical-align: middle;\n",
       "    }\n",
       "\n",
       "    .dataframe tbody tr th {\n",
       "        vertical-align: top;\n",
       "    }\n",
       "\n",
       "    .dataframe thead th {\n",
       "        text-align: right;\n",
       "    }\n",
       "</style>\n",
       "<table border=\"1\" class=\"dataframe\">\n",
       "  <thead>\n",
       "    <tr style=\"text-align: right;\">\n",
       "      <th></th>\n",
       "      <th>X</th>\n",
       "      <th>Y</th>\n",
       "      <th>distance_from_0</th>\n",
       "      <th>distance_from_1</th>\n",
       "      <th>distance_from_2</th>\n",
       "      <th>closet_k</th>\n",
       "      <th>color</th>\n",
       "    </tr>\n",
       "  </thead>\n",
       "  <tbody>\n",
       "    <tr>\n",
       "      <th>0</th>\n",
       "      <td>12</td>\n",
       "      <td>39</td>\n",
       "      <td>60.415230</td>\n",
       "      <td>8.062258</td>\n",
       "      <td>36.400549</td>\n",
       "      <td>1</td>\n",
       "      <td>green</td>\n",
       "    </tr>\n",
       "    <tr>\n",
       "      <th>1</th>\n",
       "      <td>20</td>\n",
       "      <td>36</td>\n",
       "      <td>55.217751</td>\n",
       "      <td>15.620499</td>\n",
       "      <td>32.649655</td>\n",
       "      <td>1</td>\n",
       "      <td>green</td>\n",
       "    </tr>\n",
       "    <tr>\n",
       "      <th>2</th>\n",
       "      <td>28</td>\n",
       "      <td>30</td>\n",
       "      <td>53.037722</td>\n",
       "      <td>25.612497</td>\n",
       "      <td>33.615473</td>\n",
       "      <td>1</td>\n",
       "      <td>green</td>\n",
       "    </tr>\n",
       "    <tr>\n",
       "      <th>3</th>\n",
       "      <td>18</td>\n",
       "      <td>52</td>\n",
       "      <td>49.648766</td>\n",
       "      <td>11.661904</td>\n",
       "      <td>24.698178</td>\n",
       "      <td>1</td>\n",
       "      <td>green</td>\n",
       "    </tr>\n",
       "    <tr>\n",
       "      <th>4</th>\n",
       "      <td>29</td>\n",
       "      <td>54</td>\n",
       "      <td>38.626416</td>\n",
       "      <td>22.472205</td>\n",
       "      <td>13.892444</td>\n",
       "      <td>2</td>\n",
       "      <td>blue</td>\n",
       "    </tr>\n",
       "    <tr>\n",
       "      <th>5</th>\n",
       "      <td>33</td>\n",
       "      <td>46</td>\n",
       "      <td>38.832976</td>\n",
       "      <td>25.000000</td>\n",
       "      <td>17.000000</td>\n",
       "      <td>2</td>\n",
       "      <td>blue</td>\n",
       "    </tr>\n",
       "    <tr>\n",
       "      <th>6</th>\n",
       "      <td>24</td>\n",
       "      <td>55</td>\n",
       "      <td>43.011626</td>\n",
       "      <td>18.357560</td>\n",
       "      <td>18.027756</td>\n",
       "      <td>2</td>\n",
       "      <td>blue</td>\n",
       "    </tr>\n",
       "    <tr>\n",
       "      <th>7</th>\n",
       "      <td>45</td>\n",
       "      <td>59</td>\n",
       "      <td>21.931712</td>\n",
       "      <td>39.217343</td>\n",
       "      <td>4.472136</td>\n",
       "      <td>2</td>\n",
       "      <td>blue</td>\n",
       "    </tr>\n",
       "    <tr>\n",
       "      <th>8</th>\n",
       "      <td>45</td>\n",
       "      <td>63</td>\n",
       "      <td>20.615528</td>\n",
       "      <td>40.718546</td>\n",
       "      <td>4.472136</td>\n",
       "      <td>2</td>\n",
       "      <td>blue</td>\n",
       "    </tr>\n",
       "    <tr>\n",
       "      <th>9</th>\n",
       "      <td>52</td>\n",
       "      <td>70</td>\n",
       "      <td>13.152946</td>\n",
       "      <td>50.119856</td>\n",
       "      <td>14.212670</td>\n",
       "      <td>0</td>\n",
       "      <td>red</td>\n",
       "    </tr>\n",
       "    <tr>\n",
       "      <th>10</th>\n",
       "      <td>51</td>\n",
       "      <td>66</td>\n",
       "      <td>14.142136</td>\n",
       "      <td>47.423623</td>\n",
       "      <td>11.180340</td>\n",
       "      <td>2</td>\n",
       "      <td>blue</td>\n",
       "    </tr>\n",
       "    <tr>\n",
       "      <th>11</th>\n",
       "      <td>52</td>\n",
       "      <td>63</td>\n",
       "      <td>13.928388</td>\n",
       "      <td>47.169906</td>\n",
       "      <td>11.180340</td>\n",
       "      <td>2</td>\n",
       "      <td>blue</td>\n",
       "    </tr>\n",
       "    <tr>\n",
       "      <th>12</th>\n",
       "      <td>55</td>\n",
       "      <td>58</td>\n",
       "      <td>14.142136</td>\n",
       "      <td>48.507731</td>\n",
       "      <td>14.317821</td>\n",
       "      <td>0</td>\n",
       "      <td>red</td>\n",
       "    </tr>\n",
       "    <tr>\n",
       "      <th>13</th>\n",
       "      <td>53</td>\n",
       "      <td>23</td>\n",
       "      <td>46.572524</td>\n",
       "      <td>50.537115</td>\n",
       "      <td>39.849718</td>\n",
       "      <td>2</td>\n",
       "      <td>blue</td>\n",
       "    </tr>\n",
       "    <tr>\n",
       "      <th>14</th>\n",
       "      <td>55</td>\n",
       "      <td>14</td>\n",
       "      <td>54.918121</td>\n",
       "      <td>56.859476</td>\n",
       "      <td>49.040799</td>\n",
       "      <td>2</td>\n",
       "      <td>blue</td>\n",
       "    </tr>\n",
       "    <tr>\n",
       "      <th>15</th>\n",
       "      <td>61</td>\n",
       "      <td>8</td>\n",
       "      <td>60.133186</td>\n",
       "      <td>65.215029</td>\n",
       "      <td>56.648036</td>\n",
       "      <td>2</td>\n",
       "      <td>blue</td>\n",
       "    </tr>\n",
       "    <tr>\n",
       "      <th>16</th>\n",
       "      <td>64</td>\n",
       "      <td>19</td>\n",
       "      <td>49.010203</td>\n",
       "      <td>62.169124</td>\n",
       "      <td>47.885280</td>\n",
       "      <td>2</td>\n",
       "      <td>blue</td>\n",
       "    </tr>\n",
       "    <tr>\n",
       "      <th>17</th>\n",
       "      <td>69</td>\n",
       "      <td>7</td>\n",
       "      <td>61.131007</td>\n",
       "      <td>72.401657</td>\n",
       "      <td>60.827625</td>\n",
       "      <td>2</td>\n",
       "      <td>blue</td>\n",
       "    </tr>\n",
       "    <tr>\n",
       "      <th>18</th>\n",
       "      <td>72</td>\n",
       "      <td>24</td>\n",
       "      <td>44.553339</td>\n",
       "      <td>67.675697</td>\n",
       "      <td>48.270074</td>\n",
       "      <td>0</td>\n",
       "      <td>red</td>\n",
       "    </tr>\n",
       "  </tbody>\n",
       "</table>\n",
       "</div>"
      ],
      "text/plain": [
       "     X   Y  distance_from_0  distance_from_1  distance_from_2  closet_k  color\n",
       "0   12  39        60.415230         8.062258        36.400549         1  green\n",
       "1   20  36        55.217751        15.620499        32.649655         1  green\n",
       "2   28  30        53.037722        25.612497        33.615473         1  green\n",
       "3   18  52        49.648766        11.661904        24.698178         1  green\n",
       "4   29  54        38.626416        22.472205        13.892444         2   blue\n",
       "5   33  46        38.832976        25.000000        17.000000         2   blue\n",
       "6   24  55        43.011626        18.357560        18.027756         2   blue\n",
       "7   45  59        21.931712        39.217343         4.472136         2   blue\n",
       "8   45  63        20.615528        40.718546         4.472136         2   blue\n",
       "9   52  70        13.152946        50.119856        14.212670         0    red\n",
       "10  51  66        14.142136        47.423623        11.180340         2   blue\n",
       "11  52  63        13.928388        47.169906        11.180340         2   blue\n",
       "12  55  58        14.142136        48.507731        14.317821         0    red\n",
       "13  53  23        46.572524        50.537115        39.849718         2   blue\n",
       "14  55  14        54.918121        56.859476        49.040799         2   blue\n",
       "15  61   8        60.133186        65.215029        56.648036         2   blue\n",
       "16  64  19        49.010203        62.169124        47.885280         2   blue\n",
       "17  69   7        61.131007        72.401657        60.827625         2   blue\n",
       "18  72  24        44.553339        67.675697        48.270074         0    red"
      ]
     },
     "execution_count": 8,
     "metadata": {},
     "output_type": "execute_result"
    }
   ],
   "source": [
    "centroid=init_centroid(3)\n",
    "df=assign(df,centroid)\n",
    "df"
   ]
  },
  {
   "cell_type": "code",
   "execution_count": 9,
   "metadata": {},
   "outputs": [
    {
     "data": {
      "image/png": "[encoded data removed]",
      "text/plain": [
       "<Figure size 432x288 with 1 Axes>"
      ]
     },
     "metadata": {
      "needs_background": "light"
     },
     "output_type": "display_data"
    }
   ],
   "source": [
    "###  * denote classifier point\n",
    "for i in range(len(centroid)): \n",
    "    plt.scatter(*centroid[i],c=color_list[i],marker=\"*\",s=150) \n",
    "plt.scatter(df.X,df.Y,c=df.color)\n",
    "plt.show()"
   ]
  },
  {
   "cell_type": "code",
   "execution_count": 10,
   "metadata": {},
   "outputs": [],
   "source": [
    "import copy"
   ]
  },
  {
   "cell_type": "code",
   "execution_count": 11,
   "metadata": {},
   "outputs": [
    {
     "data": {
      "text/plain": [
       "[[65, 68], [8, 46], [41, 61]]"
      ]
     },
     "execution_count": 11,
     "metadata": {},
     "output_type": "execute_result"
    }
   ],
   "source": [
    "old_centroid = copy.deepcopy(centroid)\n",
    "old_centroid"
   ]
  },
  {
   "cell_type": "code",
   "execution_count": 12,
   "metadata": {},
   "outputs": [],
   "source": [
    "##update the centroid (by taking mean of presiou classsified point)\n",
    "def update(t):\n",
    "    for i in range(len(t)):\n",
    "        t[i][0]=np.mean(df[df[\"closet_k\"]==i].X)\n",
    "        t[i][1]=np.mean(df[df[\"closet_k\"]==i].Y)\n",
    "    return t\n",
    "    "
   ]
  },
  {
   "cell_type": "code",
   "execution_count": 13,
   "metadata": {},
   "outputs": [
    {
     "data": {
      "text/plain": [
       "[[59.666666666666664, 50.666666666666664],\n",
       " [19.5, 39.25],\n",
       " [48.416666666666664, 39.75]]"
      ]
     },
     "execution_count": 13,
     "metadata": {},
     "output_type": "execute_result"
    }
   ],
   "source": [
    "centroid=update(centroid)\n",
    "centroid"
   ]
  },
  {
   "cell_type": "code",
   "execution_count": 14,
   "metadata": {},
   "outputs": [
    {
     "data": {
      "image/png": "[encoded data removed]",
      "text/plain": [
       "<Figure size 576x360 with 1 Axes>"
      ]
     },
     "metadata": {
      "needs_background": "light"
     },
     "output_type": "display_data"
    },
    {
     "data": {
      "image/png": "[encoded data removed]",
      "text/plain": [
       "<Figure size 576x360 with 1 Axes>"
      ]
     },
     "metadata": {
      "needs_background": "light"
     },
     "output_type": "display_data"
    }
   ],
   "source": [
    "plt.figure(figsize=(8,5))\n",
    "plt.title(\"graph after updating centroid\")\n",
    "plt.scatter(df.X,df.Y,c=df.color)\n",
    "for i in range(len(centroid)): \n",
    "    plt.scatter(*centroid[i],c=color_list[i],s=150,marker=\"*\") \n",
    "plt.show()\n",
    "\n",
    "plt.figure(figsize=(8,5))\n",
    "plt.title(\"graph before updating centroid\")\n",
    "plt.scatter(df.X,df.Y,c=df.color)\n",
    "for i in range(len(old_centroid)): \n",
    "    plt.scatter(*old_centroid[i],c=color_list[i],s=150,marker=\"*\") \n",
    "plt.show()"
   ]
  },
  {
   "cell_type": "markdown",
   "metadata": {},
   "source": [
    "#### repeat the assigning and updating process till we get sam result"
   ]
  },
  {
   "cell_type": "code",
   "execution_count": 15,
   "metadata": {},
   "outputs": [
    {
     "name": "stdout",
     "output_type": "stream",
     "text": [
      "updated= [[59.666666666666664, 50.666666666666664], [19.5, 39.25], [48.416666666666664, 39.75]]\n",
      "updated= [[50.0, 63.166666666666664], [23.428571428571427, 44.57142857142857], [62.333333333333336, 15.833333333333334]]\n"
     ]
    }
   ],
   "source": [
    "\n",
    "while True:\n",
    "    closet_k_old=copy.deepcopy(df[\"closet_k\"])\n",
    "    centroid=update(centroid)\n",
    "    df=assign(df,centroid)\n",
    "    print(\"updated=\",centroid)\n",
    " \n",
    "    if closet_k_old.equals(df[\"closet_k\"]):\n",
    "        break"
   ]
  },
  {
   "cell_type": "code",
   "execution_count": 16,
   "metadata": {},
   "outputs": [
    {
     "data": {
      "image/png": "[encoded data removed]",
      "text/plain": [
       "<Figure size 432x288 with 1 Axes>"
      ]
     },
     "metadata": {
      "needs_background": "light"
     },
     "output_type": "display_data"
    }
   ],
   "source": [
    "plt.scatter(df.X,df.Y,c=df.color)\n",
    "for i in range(len(centroid)): \n",
    "    plt.scatter(*centroid[i],c=color_list[i],s=150,marker=\"*\") \n",
    "plt.show()"
   ]
  },
  {
   "cell_type": "code",
   "execution_count": 17,
   "metadata": {},
   "outputs": [],
   "source": [
    "#### now we got our classifier model"
   ]
  },
  {
   "cell_type": "code",
   "execution_count": null,
   "metadata": {},
   "outputs": [],
   "source": []
  }
 ],
 "metadata": {
  "kernelspec": {
   "display_name": "Python 3",
   "language": "python",
   "name": "python3"
  },
  "language_info": {
   "codemirror_mode": {
    "name": "ipython",
    "version": 3
   },
   "file_extension": ".py",
   "mimetype": "text/x-python",
   "name": "python",
   "nbconvert_exporter": "python",
   "pygments_lexer": "ipython3",
   "version": "3.6.10"
  }
 },
 "nbformat": 4,
 "nbformat_minor": 4
}
