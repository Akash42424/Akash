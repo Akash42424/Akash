{
  "nbformat": 4,
  "nbformat_minor": 0,
  "metadata": {
    "colab": {
      "name": "cat_dog_keras.ipynb",
      "provenance": [],
      "toc_visible": true
    },
    "kernelspec": {
      "name": "python3",
      "display_name": "Python 3"
    },
    "accelerator": "GPU"
  },
  "cells": [
    {
      "cell_type": "code",
      "metadata": {
        "id": "clhNQDrYmSRp",
        "colab_type": "code",
        "colab": {
          "base_uri": "https://localhost:8080/",
          "height": 34
        },
        "outputId": "6cca91a8-b201-4423-ee66-2211b0a5dfae"
      },
      "source": [
        "from google.colab import drive\n",
        "drive.mount('/content/drive')"
      ],
      "execution_count": null,
      "outputs": [
        {
          "output_type": "stream",
          "text": [
            "Drive already mounted at /content/drive; to attempt to forcibly remount, call drive.mount(\"/content/drive\", force_remount=True).\n"
          ],
          "name": "stdout"
        }
      ]
    },
    {
      "cell_type": "code",
      "metadata": {
        "id": "e5JbFKXv4FEW",
        "colab_type": "code",
        "colab": {}
      },
      "source": [
        "!unzip \"/content/drive/My Drive/pet.zip\" \"/Mydrive/"
      ],
      "execution_count": null,
      "outputs": []
    },
    {
      "cell_type": "code",
      "metadata": {
        "id": "URfZ1zTXnE2n",
        "colab_type": "code",
        "colab": {}
      },
      "source": [
        "import numpy as np\n",
        "import pandas as pd\n",
        "import os\n",
        "import matplotlib.pyplot as plt\n",
        "import cv2"
      ],
      "execution_count": null,
      "outputs": []
    },
    {
      "cell_type": "code",
      "metadata": {
        "id": "8R6H6QOknFIl",
        "colab_type": "code",
        "colab": {}
      },
      "source": [
        "traing_data=[]\n",
        "datadir =\"/content/pet\"\n",
        "categories=[\"Dog\",\"Cat\"]\n",
        "def create_traing_data():\n",
        "    for category in categories:\n",
        "        x=categories.index(category)\n",
        "        path=os.path.join(datadir,category)\n",
        "        for img in os.listdir(path):\n",
        "            try:\n",
        "                img_data=cv2.imread(os.path.join(path,img),cv2.IMREAD_GRAYSCALE)\n",
        "                new_img=cv2.resize(img_data,(80,80))\n",
        "                traing_data.append([new_img,x])\n",
        "            except:\n",
        "                pass\n",
        "\n"
      ],
      "execution_count": null,
      "outputs": []
    },
    {
      "cell_type": "code",
      "metadata": {
        "id": "V6OdpSXknFFE",
        "colab_type": "code",
        "colab": {}
      },
      "source": [
        "create_traing_data()"
      ],
      "execution_count": null,
      "outputs": []
    },
    {
      "cell_type": "code",
      "metadata": {
        "id": "cvfHoZo5nFCO",
        "colab_type": "code",
        "colab": {}
      },
      "source": [
        "import random \n",
        "random.shuffle(traing_data)"
      ],
      "execution_count": null,
      "outputs": []
    },
    {
      "cell_type": "code",
      "metadata": {
        "id": "ymyw9VQBnE_w",
        "colab_type": "code",
        "colab": {}
      },
      "source": [
        "X=[]\n",
        "y=[]\n",
        "for x in traing_data:\n",
        "  X.append(x[0])\n",
        "  y.append(x[1])\n",
        "X=np.array(X)\n",
        "y=np.array(y)"
      ],
      "execution_count": null,
      "outputs": []
    },
    {
      "cell_type": "code",
      "metadata": {
        "id": "-RBsGhgpnE9C",
        "colab_type": "code",
        "colab": {}
      },
      "source": [
        "X=X.reshape(-1,80,80,1)\n",
        "X=X/255.0"
      ],
      "execution_count": null,
      "outputs": []
    },
    {
      "cell_type": "code",
      "metadata": {
        "id": "pg8L15DOn2B-",
        "colab_type": "code",
        "colab": {
          "base_uri": "https://localhost:8080/",
          "height": 34
        },
        "outputId": "c3a73580-c6ba-496d-ae40-f036f8330212"
      },
      "source": [
        "\n",
        "from keras.layers import Dense,Conv2D,MaxPooling2D,Dropout,Flatten,Activation\n",
        "from keras.models import Sequential"
      ],
      "execution_count": null,
      "outputs": [
        {
          "output_type": "stream",
          "text": [
            "Using TensorFlow backend.\n"
          ],
          "name": "stderr"
        }
      ]
    },
    {
      "cell_type": "code",
      "metadata": {
        "id": "iCNkda3Fn2GZ",
        "colab_type": "code",
        "colab": {}
      },
      "source": [
        "model=Sequential()\n",
        "model.add(Conv2D(32,(3,3),input_shape=X.shape[1:],padding=\"same\"))\n",
        "model.add(Activation(\"relu\"))\n",
        "model.add(MaxPooling2D(pool_size=(2, 2)))\n",
        "\n",
        "model.add(Conv2D(64,(3,3),padding=\"same\"))\n",
        "model.add(Activation(\"relu\"))\n",
        "model.add(MaxPooling2D(pool_size=(2,2)))\n",
        "\n",
        "model.add(Conv2D(128,(3,3),padding=\"same\"))\n",
        "model.add(Activation(\"relu\"))\n",
        "model.add(MaxPooling2D(pool_size=(2,2)))\n",
        "\n",
        "model.add(Flatten())\n",
        "model.add(Dense(128))\n",
        "model.add(Activation(\"relu\"))\n",
        "\n",
        "model.add(Dense(1))\n",
        "model.add(Activation(\"sigmoid\"))"
      ],
      "execution_count": null,
      "outputs": []
    },
    {
      "cell_type": "code",
      "metadata": {
        "id": "10bhT5UZn1-e",
        "colab_type": "code",
        "colab": {}
      },
      "source": [
        "model.compile(loss=\"binary_crossentropy\",optimizer=\"adam\",metrics=[\"accuracy\"])"
      ],
      "execution_count": null,
      "outputs": []
    },
    {
      "cell_type": "code",
      "metadata": {
        "id": "GrYgPAoHn18m",
        "colab_type": "code",
        "colab": {
          "base_uri": "https://localhost:8080/",
          "height": 101
        },
        "outputId": "f35ce110-f159-4945-a7be-0a3611cdef8a"
      },
      "source": [
        "history=model.fit(X,y,batch_size=64,epochs=2,validation_split=.2)"
      ],
      "execution_count": null,
      "outputs": [
        {
          "output_type": "stream",
          "text": [
            "Train on 19955 samples, validate on 4989 samples\n",
            "Epoch 1/2\n",
            "19955/19955 [==============================] - 13s 648us/step - loss: 0.6379 - accuracy: 0.6188 - val_loss: 0.5553 - val_accuracy: 0.7206\n",
            "Epoch 2/2\n",
            "19955/19955 [==============================] - 6s 282us/step - loss: 0.5015 - accuracy: 0.7510 - val_loss: 0.4810 - val_accuracy: 0.7717\n"
          ],
          "name": "stdout"
        }
      ]
    },
    {
      "cell_type": "code",
      "metadata": {
        "id": "mlH_iaVe4tzh",
        "colab_type": "code",
        "colab": {
          "base_uri": "https://localhost:8080/",
          "height": 84
        },
        "outputId": "6a1ec54f-d429-408b-9f04-9e537b509639"
      },
      "source": [
        "history.history"
      ],
      "execution_count": null,
      "outputs": [
        {
          "output_type": "execute_result",
          "data": {
            "text/plain": [
              "{'accuracy': [0.6188424, 0.75103986],\n",
              " 'loss': [0.6379250768610363, 0.5014868808222784],\n",
              " 'val_accuracy': [0.720585286617279, 0.7716977596282959],\n",
              " 'val_loss': [0.5553014555706675, 0.4810223119677989]}"
            ]
          },
          "metadata": {
            "tags": []
          },
          "execution_count": 13
        }
      ]
    },
    {
      "cell_type": "code",
      "metadata": {
        "id": "91YjCrzXn16c",
        "colab_type": "code",
        "colab": {
          "base_uri": "https://localhost:8080/",
          "height": 277
        },
        "outputId": "f2544cc1-225e-449d-cdbe-f37efeb9f640"
      },
      "source": [
        "plt.subplot(211)\n",
        "plt.plot(history.history[\"loss\"],label=\"train\",color=\"orange\")\n",
        "plt.plot(history.history[\"val_loss\"],label=\"test\",color=\"blue\")\n",
        "plt.legend()\n",
        "plt.show()\n",
        "plt.subplot(212)\n",
        "plt.plot(history.history[\"accuracy\"],label=\"train\",color=\"orange\")\n",
        "plt.plot(history.history[\"val_accuracy\"],label=\"train\",color=\"blue\")\n",
        "plt.legend()\n",
        "plt.show()"
      ],
      "execution_count": null,
      "outputs": [
        {
          "output_type": "display_data",
          "data": {
            "image/png": "[encoded data removed]",
            "text/plain": [
              "<Figure size 432x288 with 1 Axes>"
            ]
          },
          "metadata": {
            "tags": [],
            "needs_background": "light"
          }
        },
        {
          "output_type": "display_data",
          "data": {
            "image/png": "[encoded data removed]",
            "text/plain": [
              "<Figure size 432x288 with 1 Axes>"
            ]
          },
          "metadata": {
            "tags": [],
            "needs_background": "light"
          }
        }
      ]
    },
    {
      "cell_type": "code",
      "metadata": {
        "id": "UcxKpxTJn11h",
        "colab_type": "code",
        "colab": {}
      },
      "source": [
        "##### our model is clearly overfitted"
      ],
      "execution_count": null,
      "outputs": []
    },
    {
      "cell_type": "code",
      "metadata": {
        "id": "_clZ871Jn1zJ",
        "colab_type": "code",
        "colab": {}
      },
      "source": [
        "from keras.callbacks import TensorBoard"
      ],
      "execution_count": null,
      "outputs": []
    },
    {
      "cell_type": "code",
      "metadata": {
        "id": "CqnSAvf8n1xh",
        "colab_type": "code",
        "colab": {}
      },
      "source": [
        "#### lets use dropout and see"
      ],
      "execution_count": null,
      "outputs": []
    },
    {
      "cell_type": "code",
      "metadata": {
        "id": "y8lpbypBn1vs",
        "colab_type": "code",
        "colab": {}
      },
      "source": [
        "def create_model(): \n",
        "    model=Sequential()\n",
        "    model.add(Conv2D(32,(3,3),input_shape=X.shape[1:],padding=\"same\"))\n",
        "    model.add(Activation(\"relu\"))\n",
        "    model.add(MaxPooling2D(pool_size=(2, 2)))\n",
        "    model.add(Dropout(.2))\n",
        "\n",
        "    model.add(Conv2D(64,(3,3),padding=\"same\"))\n",
        "    model.add(Activation(\"relu\"))\n",
        "    model.add(MaxPooling2D(pool_size=(2,2)))\n",
        "    model.add(Dropout(.3))\n",
        "\n",
        "    model.add(Conv2D(128,(3,3),padding=\"same\"))\n",
        "    model.add(Activation(\"relu\"))\n",
        "    model.add(MaxPooling2D(pool_size=(2,2)))\n",
        "    model.add(Dropout(.4))\n",
        "\n",
        "    model.add(Flatten())\n",
        "    model.add(Dense(512))\n",
        "    model.add(Activation(\"relu\"))\n",
        "    model.add(Dropout(.5))\n",
        "\n",
        "    model.add(Dense(1))\n",
        "    model.add(Activation(\"sigmoid\"))\n",
        "\n",
        "    model.compile(loss=\"binary_crossentropy\",optimizer=\"adam\",metrics=[\"accuracy\"])\n",
        "    return model"
      ],
      "execution_count": null,
      "outputs": []
    },
    {
      "cell_type": "code",
      "metadata": {
        "id": "ereHs7OTn1uW",
        "colab_type": "code",
        "colab": {
          "base_uri": "https://localhost:8080/",
          "height": 370
        },
        "outputId": "5a3a5c1e-b34c-40d6-b73e-b2a97f0de42d"
      },
      "source": [
        "history=model.fit(X,y,batch_size=64,epochs=10,validation_split=.2)"
      ],
      "execution_count": null,
      "outputs": [
        {
          "output_type": "stream",
          "text": [
            "Train on 19955 samples, validate on 4989 samples\n",
            "Epoch 1/10\n",
            "19955/19955 [==============================] - 15s 762us/step - loss: 0.6687 - accuracy: 0.5774 - val_loss: 0.5987 - val_accuracy: 0.6879\n",
            "Epoch 2/10\n",
            "19955/19955 [==============================] - 15s 746us/step - loss: 0.5697 - accuracy: 0.7055 - val_loss: 0.5328 - val_accuracy: 0.7334\n",
            "Epoch 3/10\n",
            "19955/19955 [==============================] - 15s 754us/step - loss: 0.5204 - accuracy: 0.7411 - val_loss: 0.5202 - val_accuracy: 0.7426\n",
            "Epoch 4/10\n",
            "19955/19955 [==============================] - 15s 751us/step - loss: 0.4881 - accuracy: 0.7623 - val_loss: 0.5065 - val_accuracy: 0.7498\n",
            "Epoch 5/10\n",
            "19955/19955 [==============================] - 15s 741us/step - loss: 0.4528 - accuracy: 0.7863 - val_loss: 0.4357 - val_accuracy: 0.7974\n",
            "Epoch 6/10\n",
            "19955/19955 [==============================] - 15s 748us/step - loss: 0.4264 - accuracy: 0.8032 - val_loss: 0.4468 - val_accuracy: 0.7871\n",
            "Epoch 7/10\n",
            "19955/19955 [==============================] - 15s 744us/step - loss: 0.4015 - accuracy: 0.8130 - val_loss: 0.3906 - val_accuracy: 0.8256\n",
            "Epoch 8/10\n",
            "19955/19955 [==============================] - 15s 766us/step - loss: 0.3706 - accuracy: 0.8308 - val_loss: 0.3648 - val_accuracy: 0.8402\n",
            "Epoch 9/10\n",
            "19955/19955 [==============================] - 15s 744us/step - loss: 0.3548 - accuracy: 0.8412 - val_loss: 0.3649 - val_accuracy: 0.8419\n",
            "Epoch 10/10\n",
            "19955/19955 [==============================] - 15s 748us/step - loss: 0.3333 - accuracy: 0.8554 - val_loss: 0.3728 - val_accuracy: 0.8396\n"
          ],
          "name": "stdout"
        }
      ]
    },
    {
      "cell_type": "code",
      "metadata": {
        "id": "U9pVarK5n1p1",
        "colab_type": "code",
        "colab": {
          "base_uri": "https://localhost:8080/",
          "height": 277
        },
        "outputId": "885c9aac-50e2-4aca-9703-0a67adfdf85b"
      },
      "source": [
        "plt.subplot(211)\n",
        "plt.plot(history.history[\"loss\"],label=\"train\",color=\"orange\")\n",
        "plt.plot(history.history[\"val_loss\"],label=\"test\",color=\"blue\")\n",
        "plt.legend()\n",
        "plt.show()\n",
        "plt.subplot(212)\n",
        "plt.plot(history.history[\"accuracy\"],label=\"train\",color=\"orange\")\n",
        "plt.plot(history.history[\"val_accuracy\"],label=\"train\",color=\"blue\")\n",
        "plt.legend()\n",
        "plt.show()"
      ],
      "execution_count": null,
      "outputs": [
        {
          "output_type": "display_data",
          "data": {
            "image/png": "[encoded data removed]",
            "text/plain": [
              "<Figure size 432x288 with 1 Axes>"
            ]
          },
          "metadata": {
            "tags": [],
            "needs_background": "light"
          }
        },
        {
          "output_type": "display_data",
          "data": {
            "image/png": "[encoded data removed]",
            "text/plain": [
              "<Figure size 432x288 with 1 Axes>"
            ]
          },
          "metadata": {
            "tags": [],
            "needs_background": "light"
          }
        }
      ]
    },
    {
      "cell_type": "code",
      "metadata": {
        "id": "CkIIi2-y2hdo",
        "colab_type": "code",
        "colab": {}
      },
      "source": [
        "### lets use image genertor +dropout together"
      ],
      "execution_count": null,
      "outputs": []
    },
    {
      "cell_type": "code",
      "metadata": {
        "id": "Pou6w_kl2haV",
        "colab_type": "code",
        "colab": {}
      },
      "source": [
        "from keras.preprocessing.image import ImageDataGenerator"
      ],
      "execution_count": null,
      "outputs": []
    },
    {
      "cell_type": "code",
      "metadata": {
        "id": "NRKteeGZ4UBe",
        "colab_type": "code",
        "colab": {}
      },
      "source": [
        " from sklearn.model_selection import train_test_split\n",
        " X_train, X_test, y_train, y_test = train_test_split(X, y, test_size=0.2, )"
      ],
      "execution_count": null,
      "outputs": []
    },
    {
      "cell_type": "code",
      "metadata": {
        "id": "PDLubAen2hYO",
        "colab_type": "code",
        "colab": {}
      },
      "source": [
        "datagen = ImageDataGenerator(width_shift_range=0.1, height_shift_range=0.1, horizontal_flip=True)"
      ],
      "execution_count": null,
      "outputs": []
    },
    {
      "cell_type": "code",
      "metadata": {
        "id": "8kbBYJvL2hVa",
        "colab_type": "code",
        "colab": {}
      },
      "source": [
        "data=datagen.flow(X_train,y_train,batch_size=64)"
      ],
      "execution_count": null,
      "outputs": []
    },
    {
      "cell_type": "code",
      "metadata": {
        "id": "_pbI_LcZ54DV",
        "colab_type": "code",
        "colab": {}
      },
      "source": [
        "model=create_model()"
      ],
      "execution_count": null,
      "outputs": []
    },
    {
      "cell_type": "code",
      "metadata": {
        "id": "j1KY5CH12hSL",
        "colab_type": "code",
        "colab": {
          "base_uri": "https://localhost:8080/",
          "height": 353
        },
        "outputId": "656a0640-13ce-429a-bc48-74d81b10bdfc"
      },
      "source": [
        "steps = int(X.shape[0] / 64)\n",
        "history = model.fit_generator(data, steps_per_epoch=steps, epochs=10, validation_data=(X_test,y_test))"
      ],
      "execution_count": null,
      "outputs": [
        {
          "output_type": "stream",
          "text": [
            "Epoch 1/10\n",
            "389/389 [==============================] - 27s 69ms/step - loss: 0.6829 - accuracy: 0.5681 - val_loss: 0.6386 - val_accuracy: 0.6354\n",
            "Epoch 2/10\n",
            "389/389 [==============================] - 26s 66ms/step - loss: 0.6159 - accuracy: 0.6643 - val_loss: 0.5615 - val_accuracy: 0.7142\n",
            "Epoch 3/10\n",
            "389/389 [==============================] - 26s 66ms/step - loss: 0.5716 - accuracy: 0.7031 - val_loss: 0.5287 - val_accuracy: 0.7396\n",
            "Epoch 4/10\n",
            "389/389 [==============================] - 26s 66ms/step - loss: 0.5243 - accuracy: 0.7384 - val_loss: 0.4705 - val_accuracy: 0.7735\n",
            "Epoch 5/10\n",
            "389/389 [==============================] - 26s 66ms/step - loss: 0.4970 - accuracy: 0.7611 - val_loss: 0.4394 - val_accuracy: 0.7887\n",
            "Epoch 6/10\n",
            "389/389 [==============================] - 26s 67ms/step - loss: 0.4746 - accuracy: 0.7738 - val_loss: 0.4046 - val_accuracy: 0.8132\n",
            "Epoch 7/10\n",
            "389/389 [==============================] - 26s 66ms/step - loss: 0.4490 - accuracy: 0.7892 - val_loss: 0.3884 - val_accuracy: 0.8192\n",
            "Epoch 8/10\n",
            "389/389 [==============================] - 26s 67ms/step - loss: 0.4396 - accuracy: 0.7961 - val_loss: 0.3965 - val_accuracy: 0.8146\n",
            "Epoch 9/10\n",
            "389/389 [==============================] - 26s 68ms/step - loss: 0.4210 - accuracy: 0.8054 - val_loss: 0.3511 - val_accuracy: 0.8449\n",
            "Epoch 10/10\n",
            "389/389 [==============================] - 25s 65ms/step - loss: 0.4110 - accuracy: 0.8145 - val_loss: 0.3477 - val_accuracy: 0.8441\n"
          ],
          "name": "stdout"
        }
      ]
    },
    {
      "cell_type": "code",
      "metadata": {
        "id": "JXWPLOxr359y",
        "colab_type": "code",
        "colab": {
          "base_uri": "https://localhost:8080/",
          "height": 277
        },
        "outputId": "b7767597-46d2-4bf7-834f-4e01f67f0a88"
      },
      "source": [
        "plt.subplot(211)\n",
        "plt.plot(history.history[\"loss\"],label=\"train\",color=\"orange\")\n",
        "plt.plot(history.history[\"val_loss\"],label=\"test\",color=\"blue\")\n",
        "plt.legend()\n",
        "plt.show()\n",
        "plt.subplot(212)\n",
        "plt.plot(history.history[\"accuracy\"],label=\"train\",color=\"orange\")\n",
        "plt.plot(history.history[\"val_accuracy\"],label=\"train\",color=\"blue\")\n",
        "plt.legend()\n",
        "plt.show()"
      ],
      "execution_count": null,
      "outputs": [
        {
          "output_type": "display_data",
          "data": {
            "image/png": "[encoded data removed]",
            "text/plain": [
              "<Figure size 432x288 with 1 Axes>"
            ]
          },
          "metadata": {
            "tags": [],
            "needs_background": "light"
          }
        },
        {
          "output_type": "display_data",
          "data": {
            "image/png": "[encoded data removed]",
            "text/plain": [
              "<Figure size 432x288 with 1 Axes>"
            ]
          },
          "metadata": {
            "tags": [],
            "needs_background": "light"
          }
        }
      ]
    }
  ]
}